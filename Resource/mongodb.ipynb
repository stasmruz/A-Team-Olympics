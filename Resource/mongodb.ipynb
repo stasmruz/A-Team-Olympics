{
 "cells": [
  {
   "cell_type": "code",
   "execution_count": 79,
   "source": [
    "# Dependencies\r\n",
    "import pymongo\r\n",
    "import pandas as pd"
   ],
   "outputs": [],
   "metadata": {}
  },
  {
   "cell_type": "code",
   "execution_count": 80,
   "source": [
    "conn = 'mongodb://localhost:27017'\r\n",
    "client = pymongo.MongoClient(conn)\r\n",
    "db = client.Olympic_data"
   ],
   "outputs": [],
   "metadata": {}
  },
  {
   "cell_type": "code",
   "execution_count": 81,
   "source": [
    "df = pd.read_csv(\"Cleaned.csv\")\r\n",
    "df = df[[\"ID\", \"Region\", \"Name\", \"Sex\", \"Year\", \"Sport\", \"Event\", \"Bronze\", \"Silver\", \"Gold\", \"No Win\", \"Attempts\", \"Wins\"]]\r\n",
    "df[\"Total Medals\"] = df[\"Bronze\"] + df[\"Gold\"] + df[\"Silver\"]\r\n",
    "df.head(5)"
   ],
   "outputs": [
    {
     "output_type": "execute_result",
     "data": {
      "text/html": [
       "<div>\n",
       "<style scoped>\n",
       "    .dataframe tbody tr th:only-of-type {\n",
       "        vertical-align: middle;\n",
       "    }\n",
       "\n",
       "    .dataframe tbody tr th {\n",
       "        vertical-align: top;\n",
       "    }\n",
       "\n",
       "    .dataframe thead th {\n",
       "        text-align: right;\n",
       "    }\n",
       "</style>\n",
       "<table border=\"1\" class=\"dataframe\">\n",
       "  <thead>\n",
       "    <tr style=\"text-align: right;\">\n",
       "      <th></th>\n",
       "      <th>ID</th>\n",
       "      <th>Region</th>\n",
       "      <th>Name</th>\n",
       "      <th>Sex</th>\n",
       "      <th>Year</th>\n",
       "      <th>Sport</th>\n",
       "      <th>Event</th>\n",
       "      <th>Bronze</th>\n",
       "      <th>Silver</th>\n",
       "      <th>Gold</th>\n",
       "      <th>No Win</th>\n",
       "      <th>Attempts</th>\n",
       "      <th>Wins</th>\n",
       "      <th>Total Medals</th>\n",
       "    </tr>\n",
       "  </thead>\n",
       "  <tbody>\n",
       "    <tr>\n",
       "      <th>0</th>\n",
       "      <td>1</td>\n",
       "      <td>China</td>\n",
       "      <td>A Dijiang</td>\n",
       "      <td>M</td>\n",
       "      <td>1992</td>\n",
       "      <td>Basketball</td>\n",
       "      <td>Basketball Men's Basketball</td>\n",
       "      <td>0</td>\n",
       "      <td>0</td>\n",
       "      <td>0</td>\n",
       "      <td>1</td>\n",
       "      <td>1</td>\n",
       "      <td>0</td>\n",
       "      <td>0</td>\n",
       "    </tr>\n",
       "    <tr>\n",
       "      <th>1</th>\n",
       "      <td>2</td>\n",
       "      <td>China</td>\n",
       "      <td>A Lamusi</td>\n",
       "      <td>M</td>\n",
       "      <td>2012</td>\n",
       "      <td>Judo</td>\n",
       "      <td>Judo Men's Extra-Lightweight</td>\n",
       "      <td>0</td>\n",
       "      <td>0</td>\n",
       "      <td>0</td>\n",
       "      <td>1</td>\n",
       "      <td>1</td>\n",
       "      <td>0</td>\n",
       "      <td>0</td>\n",
       "    </tr>\n",
       "    <tr>\n",
       "      <th>2</th>\n",
       "      <td>602</td>\n",
       "      <td>China</td>\n",
       "      <td>Abudoureheman</td>\n",
       "      <td>M</td>\n",
       "      <td>2000</td>\n",
       "      <td>Boxing</td>\n",
       "      <td>Boxing Men's Middleweight</td>\n",
       "      <td>0</td>\n",
       "      <td>0</td>\n",
       "      <td>0</td>\n",
       "      <td>1</td>\n",
       "      <td>1</td>\n",
       "      <td>0</td>\n",
       "      <td>0</td>\n",
       "    </tr>\n",
       "    <tr>\n",
       "      <th>3</th>\n",
       "      <td>1463</td>\n",
       "      <td>China</td>\n",
       "      <td>Ai Linuer</td>\n",
       "      <td>M</td>\n",
       "      <td>2004</td>\n",
       "      <td>Wrestling</td>\n",
       "      <td>Wrestling Men's Lightweight, Greco-Roman</td>\n",
       "      <td>0</td>\n",
       "      <td>0</td>\n",
       "      <td>0</td>\n",
       "      <td>1</td>\n",
       "      <td>1</td>\n",
       "      <td>0</td>\n",
       "      <td>0</td>\n",
       "    </tr>\n",
       "    <tr>\n",
       "      <th>4</th>\n",
       "      <td>1464</td>\n",
       "      <td>China</td>\n",
       "      <td>Ai Yanhan</td>\n",
       "      <td>F</td>\n",
       "      <td>2016</td>\n",
       "      <td>Swimming</td>\n",
       "      <td>Swimming Women's 200 metres Freestyle</td>\n",
       "      <td>0</td>\n",
       "      <td>0</td>\n",
       "      <td>0</td>\n",
       "      <td>1</td>\n",
       "      <td>1</td>\n",
       "      <td>0</td>\n",
       "      <td>0</td>\n",
       "    </tr>\n",
       "  </tbody>\n",
       "</table>\n",
       "</div>"
      ],
      "text/plain": [
       "     ID Region           Name Sex  Year       Sport  \\\n",
       "0     1  China      A Dijiang   M  1992  Basketball   \n",
       "1     2  China       A Lamusi   M  2012        Judo   \n",
       "2   602  China  Abudoureheman   M  2000      Boxing   \n",
       "3  1463  China      Ai Linuer   M  2004   Wrestling   \n",
       "4  1464  China      Ai Yanhan   F  2016    Swimming   \n",
       "\n",
       "                                      Event  Bronze  Silver  Gold  No Win  \\\n",
       "0               Basketball Men's Basketball       0       0     0       1   \n",
       "1              Judo Men's Extra-Lightweight       0       0     0       1   \n",
       "2                 Boxing Men's Middleweight       0       0     0       1   \n",
       "3  Wrestling Men's Lightweight, Greco-Roman       0       0     0       1   \n",
       "4     Swimming Women's 200 metres Freestyle       0       0     0       1   \n",
       "\n",
       "   Attempts  Wins  Total Medals  \n",
       "0         1     0             0  \n",
       "1         1     0             0  \n",
       "2         1     0             0  \n",
       "3         1     0             0  \n",
       "4         1     0             0  "
      ]
     },
     "metadata": {},
     "execution_count": 81
    }
   ],
   "metadata": {}
  },
  {
   "cell_type": "code",
   "execution_count": 93,
   "source": [
    "#Gender Over Time CSV\r\n",
    "# Sport,Year,Sex,Athletes,Bronze,Silver,Gold,No Win,Attempts,Wins\r\n",
    "GenderOverTime = df.groupby([\"Sport\",\"Year\",\"Sex\",]).agg({\r\n",
    "    \"Name\":\"nunique\",\r\n",
    "    \"Bronze\": \"sum\",\r\n",
    "    \"Silver\":\"sum\",\r\n",
    "    \"Gold\":\"sum\",\r\n",
    "    \"No Win\": \"sum\",\r\n",
    "    \"Attempts\":\"sum\",\r\n",
    "    \"Wins\":\"sum\"\r\n",
    "}).reset_index()"
   ],
   "outputs": [
    {
     "output_type": "execute_result",
     "data": {
      "text/html": [
       "<div>\n",
       "<style scoped>\n",
       "    .dataframe tbody tr th:only-of-type {\n",
       "        vertical-align: middle;\n",
       "    }\n",
       "\n",
       "    .dataframe tbody tr th {\n",
       "        vertical-align: top;\n",
       "    }\n",
       "\n",
       "    .dataframe thead th {\n",
       "        text-align: right;\n",
       "    }\n",
       "</style>\n",
       "<table border=\"1\" class=\"dataframe\">\n",
       "  <thead>\n",
       "    <tr style=\"text-align: right;\">\n",
       "      <th></th>\n",
       "      <th>Sport</th>\n",
       "      <th>Year</th>\n",
       "      <th>Sex</th>\n",
       "      <th>Name</th>\n",
       "      <th>Bronze</th>\n",
       "      <th>Silver</th>\n",
       "      <th>Gold</th>\n",
       "      <th>No Win</th>\n",
       "      <th>Attempts</th>\n",
       "      <th>Wins</th>\n",
       "    </tr>\n",
       "  </thead>\n",
       "  <tbody>\n",
       "    <tr>\n",
       "      <th>0</th>\n",
       "      <td>Aeronautics</td>\n",
       "      <td>1936</td>\n",
       "      <td>M</td>\n",
       "      <td>1</td>\n",
       "      <td>0</td>\n",
       "      <td>0</td>\n",
       "      <td>1</td>\n",
       "      <td>0</td>\n",
       "      <td>1</td>\n",
       "      <td>1</td>\n",
       "    </tr>\n",
       "    <tr>\n",
       "      <th>1</th>\n",
       "      <td>Alpine Skiing</td>\n",
       "      <td>1936</td>\n",
       "      <td>F</td>\n",
       "      <td>37</td>\n",
       "      <td>1</td>\n",
       "      <td>1</td>\n",
       "      <td>1</td>\n",
       "      <td>34</td>\n",
       "      <td>37</td>\n",
       "      <td>3</td>\n",
       "    </tr>\n",
       "    <tr>\n",
       "      <th>2</th>\n",
       "      <td>Alpine Skiing</td>\n",
       "      <td>1936</td>\n",
       "      <td>M</td>\n",
       "      <td>66</td>\n",
       "      <td>1</td>\n",
       "      <td>1</td>\n",
       "      <td>1</td>\n",
       "      <td>63</td>\n",
       "      <td>66</td>\n",
       "      <td>3</td>\n",
       "    </tr>\n",
       "    <tr>\n",
       "      <th>3</th>\n",
       "      <td>Alpine Skiing</td>\n",
       "      <td>1948</td>\n",
       "      <td>F</td>\n",
       "      <td>40</td>\n",
       "      <td>3</td>\n",
       "      <td>3</td>\n",
       "      <td>3</td>\n",
       "      <td>84</td>\n",
       "      <td>93</td>\n",
       "      <td>9</td>\n",
       "    </tr>\n",
       "    <tr>\n",
       "      <th>4</th>\n",
       "      <td>Alpine Skiing</td>\n",
       "      <td>1948</td>\n",
       "      <td>M</td>\n",
       "      <td>127</td>\n",
       "      <td>4</td>\n",
       "      <td>3</td>\n",
       "      <td>3</td>\n",
       "      <td>257</td>\n",
       "      <td>267</td>\n",
       "      <td>10</td>\n",
       "    </tr>\n",
       "  </tbody>\n",
       "</table>\n",
       "</div>"
      ],
      "text/plain": [
       "           Sport  Year Sex  Name  Bronze  Silver  Gold  No Win  Attempts  Wins\n",
       "0    Aeronautics  1936   M     1       0       0     1       0         1     1\n",
       "1  Alpine Skiing  1936   F    37       1       1     1      34        37     3\n",
       "2  Alpine Skiing  1936   M    66       1       1     1      63        66     3\n",
       "3  Alpine Skiing  1948   F    40       3       3     3      84        93     9\n",
       "4  Alpine Skiing  1948   M   127       4       3     3     257       267    10"
      ]
     },
     "metadata": {},
     "execution_count": 93
    }
   ],
   "metadata": {}
  },
  {
   "cell_type": "code",
   "execution_count": 83,
   "source": [
    "#MapData CSV\r\n",
    "MapData = df.groupby([\"Region\"]).agg({\r\n",
    "    \"Bronze\": \"sum\",\r\n",
    "    \"Silver\":\"sum\",\r\n",
    "    \"Gold\":\"sum\",\r\n",
    "    \"No Win\": \"sum\",\r\n",
    "    \"Attempts\":\"sum\",\r\n",
    "    \"Wins\":\"sum\"\r\n",
    "}).reset_index()"
   ],
   "outputs": [],
   "metadata": {}
  },
  {
   "cell_type": "code",
   "execution_count": 84,
   "source": [
    "#Map Over time CSV\r\n",
    "MedalsOverTime = df.groupby([\"Region\",\"Year\"]).agg({\r\n",
    "    \"Bronze\": \"sum\",\r\n",
    "    \"Silver\":\"sum\",\r\n",
    "    \"Gold\":\"sum\",\r\n",
    "    \"No Win\": \"sum\",\r\n",
    "    \"Attempts\":\"sum\",\r\n",
    "    \"Wins\":\"sum\"\r\n",
    "}).reset_index()"
   ],
   "outputs": [],
   "metadata": {}
  },
  {
   "cell_type": "code",
   "execution_count": 85,
   "source": [
    "#Bar Chart CSV\r\n",
    "##top 10 countries\r\n",
    "countries = df.groupby([\"Region\"]).agg({\r\n",
    "    \"Gold\":\"sum\",\r\n",
    "    \"Total Medals\":\"sum\"\r\n",
    "}).reset_index().sort_values(by=\"Gold\", ascending=False).head(10)\r\n",
    "countries[\"Category\"] = \"Country\"\r\n",
    "countries = countries.rename(columns={\"Region\":\"Item\"})\r\n",
    "##top 10 athletes\r\n",
    "athletes = df.groupby([\"Name\"]).agg({\r\n",
    "    \"Gold\":\"sum\",\r\n",
    "    \"Total Medals\":\"sum\"\r\n",
    "}).reset_index().sort_values(by=\"Gold\", ascending=False).head(10)\r\n",
    "athletes[\"Category\"] = \"Athlete\"\r\n",
    "athletes = athletes.rename(columns={\"Name\":\"Item\"})\r\n",
    "##top 10 sports\r\n",
    "sports = df.groupby([\"Sport\"]).agg({\r\n",
    "    \"Gold\":\"sum\",\r\n",
    "    \"Total Medals\":\"sum\"\r\n",
    "}).reset_index().sort_values(by=\"Gold\", ascending=False).head(10)\r\n",
    "sports[\"Category\"] = \"Sport\"\r\n",
    "sports = sports.rename(columns={\"Sport\":\"Item\"})\r\n",
    "##top 10 events\r\n",
    "events = df.groupby([\"Event\"]).agg({\r\n",
    "    \"Gold\":\"sum\",\r\n",
    "    \"Total Medals\":\"sum\"\r\n",
    "}).reset_index().sort_values(by=\"Gold\", ascending=False).head(10)\r\n",
    "events[\"Category\"] = \"Events\"\r\n",
    "events = events.rename(columns={\"Event\":\"Item\"})\r\n",
    "\r\n",
    "Barchart = countries.append([athletes,events,sports],verify_integrity=False).set_index(\"Category\").reset_index()"
   ],
   "outputs": [],
   "metadata": {}
  },
  {
   "cell_type": "code",
   "execution_count": 86,
   "source": [
    "#Port to Mongo DB\r\n",
    "All_Data_db = db.AllData_DB\r\n",
    "GenderOverrTime_db = db.GenderOverTime_DB\r\n",
    "MapData_db = db.MapData_DB\r\n",
    "MedalsOverTime_db = db.MedalsOverTime_DB\r\n",
    "Barchart_db = db.Barchart"
   ],
   "outputs": [],
   "metadata": {}
  },
  {
   "cell_type": "code",
   "execution_count": 87,
   "source": [
    "All_Data_db.insert_many(df.to_dict(\"records\"))"
   ],
   "outputs": [
    {
     "output_type": "execute_result",
     "data": {
      "text/plain": [
       "<pymongo.results.InsertManyResult at 0x2619b453dc0>"
      ]
     },
     "metadata": {},
     "execution_count": 87
    }
   ],
   "metadata": {}
  },
  {
   "cell_type": "code",
   "execution_count": 94,
   "source": [
    "GenderOverrTime_db.insert_many(GenderOverTime.to_dict(\"records\"))"
   ],
   "outputs": [
    {
     "output_type": "execute_result",
     "data": {
      "text/plain": [
       "<pymongo.results.InsertManyResult at 0x26199ee5400>"
      ]
     },
     "metadata": {},
     "execution_count": 94
    }
   ],
   "metadata": {}
  },
  {
   "cell_type": "code",
   "execution_count": 90,
   "source": [
    "MapData_db.insert_many(MapData.to_dict(\"records\"))"
   ],
   "outputs": [
    {
     "output_type": "execute_result",
     "data": {
      "text/plain": [
       "<pymongo.results.InsertManyResult at 0x26198946a80>"
      ]
     },
     "metadata": {},
     "execution_count": 90
    }
   ],
   "metadata": {}
  },
  {
   "cell_type": "code",
   "execution_count": 89,
   "source": [
    "MedalsOverTime_db.insert_many(MedalsOverTime.to_dict(\"records\"))"
   ],
   "outputs": [
    {
     "output_type": "execute_result",
     "data": {
      "text/plain": [
       "<pymongo.results.InsertManyResult at 0x2619934b600>"
      ]
     },
     "metadata": {},
     "execution_count": 89
    }
   ],
   "metadata": {}
  },
  {
   "cell_type": "code",
   "execution_count": 88,
   "source": [
    "Barchart_db.insert_many(Barchart.to_dict(\"records\"))"
   ],
   "outputs": [
    {
     "output_type": "execute_result",
     "data": {
      "text/plain": [
       "<pymongo.results.InsertManyResult at 0x2618a220340>"
      ]
     },
     "metadata": {},
     "execution_count": 88
    }
   ],
   "metadata": {}
  }
 ],
 "metadata": {
  "orig_nbformat": 4,
  "language_info": {
   "name": "python",
   "version": "3.9.6",
   "mimetype": "text/x-python",
   "codemirror_mode": {
    "name": "ipython",
    "version": 3
   },
   "pygments_lexer": "ipython3",
   "nbconvert_exporter": "python",
   "file_extension": ".py"
  },
  "kernelspec": {
   "name": "python3",
   "display_name": "Python 3.9.6 64-bit ('PythonData': conda)"
  },
  "interpreter": {
   "hash": "3b32922ae442944bae51de5c420d7545d4126864cdc0e7cb358b7d9924f39d3e"
  }
 },
 "nbformat": 4,
 "nbformat_minor": 2
}